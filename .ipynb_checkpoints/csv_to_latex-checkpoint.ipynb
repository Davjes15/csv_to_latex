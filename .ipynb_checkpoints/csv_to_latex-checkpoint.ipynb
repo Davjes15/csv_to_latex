{
 "cells": [
  {
   "cell_type": "markdown",
   "metadata": {},
   "source": [
    "# LaTeX Programmatically\n",
    "\n",
    "This is a notebook to compare different libraries to programmatically create LaTeX code from CSV files and dataframes"
   ]
  },
  {
   "cell_type": "markdown",
   "metadata": {},
   "source": [
    "# Tabulate\n",
    "\n",
    "The main use cases of the library are:\n",
    "\n",
    "printing small tables without hassle: just one function call, formatting is guided by the data itself\n",
    "authoring tabular data for lightweight plain-text markup: multiple output formats suitable for further editing or transformation\n",
    "readable presentation of mixed textual and numeric data: smart column alignment, configurable number formatting, alignment by a decimal point\n",
    "\n",
    "https://pypi.org/project/tabulate/"
   ]
  },
  {
   "cell_type": "code",
   "execution_count": 1,
   "metadata": {},
   "outputs": [
    {
     "name": "stdout",
     "output_type": "stream",
     "text": [
      "Requirement already satisfied: tabulate in c:\\users\\davje\\anaconda3\\lib\\site-packages (0.8.7)\n"
     ]
    },
    {
     "name": "stderr",
     "output_type": "stream",
     "text": [
      "WARNING: You are using pip version 20.1; however, version 20.1.1 is available.\n",
      "You should consider upgrading via the 'c:\\users\\davje\\anaconda3\\python.exe -m pip install --upgrade pip' command.\n"
     ]
    }
   ],
   "source": [
    "# Installation\n",
    "!pip install tabulate"
   ]
  },
  {
   "cell_type": "code",
   "execution_count": 2,
   "metadata": {},
   "outputs": [],
   "source": [
    "from tabulate import tabulate\n",
    "import csv\n",
    "\n",
    "table = [[\"Sun\",696000,1989100000],[\"Earth\",6371,5973.6],[\"Moon\",1737,73.5],[\"Mars\",3390,641.85]]"
   ]
  },
  {
   "cell_type": "code",
   "execution_count": 3,
   "metadata": {},
   "outputs": [
    {
     "data": {
      "text/plain": [
       "[['Sun', 696000, 1989100000],\n",
       " ['Earth', 6371, 5973.6],\n",
       " ['Moon', 1737, 73.5],\n",
       " ['Mars', 3390, 641.85]]"
      ]
     },
     "execution_count": 3,
     "metadata": {},
     "output_type": "execute_result"
    }
   ],
   "source": [
    "table"
   ]
  },
  {
   "cell_type": "code",
   "execution_count": 4,
   "metadata": {},
   "outputs": [
    {
     "name": "stdout",
     "output_type": "stream",
     "text": [
      "-----  ------  -------------\n",
      "Sun    696000     1.9891e+09\n",
      "Earth    6371  5973.6\n",
      "Moon     1737    73.5\n",
      "Mars     3390   641.85\n",
      "-----  ------  -------------\n"
     ]
    }
   ],
   "source": [
    "print(tabulate(table))"
   ]
  },
  {
   "cell_type": "code",
   "execution_count": 5,
   "metadata": {},
   "outputs": [
    {
     "name": "stdout",
     "output_type": "stream",
     "text": [
      "\\begin{tabular}{lrr}\n",
      "\\hline\n",
      " Sun   & 696000 &    1.9891e+09 \\\\\n",
      " Earth &   6371 & 5973.6        \\\\\n",
      " Moon  &   1737 &   73.5        \\\\\n",
      " Mars  &   3390 &  641.85       \\\\\n",
      "\\hline\n",
      "\\end{tabular}\n"
     ]
    }
   ],
   "source": [
    " print(tabulate(table, tablefmt=\"latex\"))"
   ]
  },
  {
   "cell_type": "code",
   "execution_count": 6,
   "metadata": {
    "scrolled": true
   },
   "outputs": [
    {
     "name": "stdout",
     "output_type": "stream",
     "text": [
      "\\begin{tabular}{lrr}\n",
      "\\hline\n",
      " Sun   & 696000 &    1.9891e+09 \\\\\n",
      " Earth &   6371 & 5973.6        \\\\\n",
      " Moon  &   1737 &   73.5        \\\\\n",
      " Mars  &   3390 &  641.85       \\\\\n",
      "\\hline\n",
      "\\end{tabular}\n"
     ]
    }
   ],
   "source": [
    " print(tabulate(table, tablefmt=\"latex_raw\"))"
   ]
  },
  {
   "attachments": {
    "image.png": {
     "image/png": "[encoded data removed]"
    }
   },
   "cell_type": "markdown",
   "metadata": {},
   "source": [
    "![image.png](attachment:image.png)"
   ]
  },
  {
   "cell_type": "code",
   "execution_count": 7,
   "metadata": {},
   "outputs": [
    {
     "name": "stdout",
     "output_type": "stream",
     "text": [
      "\\begin{tabular}{lrr}\n",
      "\\toprule\n",
      " Sun   & 696000 &    1.9891e+09 \\\\\n",
      " Earth &   6371 & 5973.6        \\\\\n",
      " Moon  &   1737 &   73.5        \\\\\n",
      " Mars  &   3390 &  641.85       \\\\\n",
      "\\bottomrule\n",
      "\\end{tabular}\n"
     ]
    }
   ],
   "source": [
    "print(tabulate(table, tablefmt=\"latex_booktabs\"))"
   ]
  },
  {
   "attachments": {
    "image.png": {
     "image/png": "[encoded data removed]"
    }
   },
   "cell_type": "markdown",
   "metadata": {},
   "source": [
    "![image.png](attachment:image.png)"
   ]
  },
  {
   "cell_type": "code",
   "execution_count": 8,
   "metadata": {},
   "outputs": [
    {
     "name": "stdout",
     "output_type": "stream",
     "text": [
      "Planet      R (km)    mass (x 10^29 kg)\n",
      "--------  --------  -------------------\n",
      "Sun         696000           1.9891e+09\n",
      "Earth         6371        5973.6\n",
      "Moon          1737          73.5\n",
      "Mars          3390         641.85\n"
     ]
    }
   ],
   "source": [
    "table = print (tabulate(table, headers=[\"Planet\",\"R (km)\", \"mass (x 10^29 kg)\"]))"
   ]
  },
  {
   "cell_type": "code",
   "execution_count": 9,
   "metadata": {},
   "outputs": [
    {
     "name": "stdout",
     "output_type": "stream",
     "text": [
      "   accuracy  batch_accuracy  batch_accuracy_min  epoch_duration      loss  \\\n",
      "0  0.640979        0.640979            0.062500           3.813  0.943765   \n",
      "1  0.786038        0.786038            0.642045           4.578  0.564268   \n",
      "2  0.780598        0.780598            0.625000           3.812  0.616458   \n",
      "\n",
      "   validate_batch_accuracy  validate_batch_loss  val_accuracy  val_loss  \\\n",
      "0                 0.692223             0.796428        0.6926  0.795536   \n",
      "1                 0.811596             0.517182        0.8114  0.517288   \n",
      "2                 0.798131             0.568632        0.7980  0.569058   \n",
      "\n",
      "   curr_step  epochs Optimizer  SGD_decay  SGD_learning_rate  SGD_momentum  \\\n",
      "0       1248       2       SGD   0.000001              0.001           0.9   \n",
      "1       1248       2       SGD   0.000001              0.010           0.9   \n",
      "2       1248       2       SGD   0.000001              0.100           0.9   \n",
      "\n",
      "  SGD_name  SGD_nesterov  steps  validate_curr_step  trainable_params  \n",
      "0      SGD          True    311                1246             93418  \n",
      "1      SGD          True    311                1246             93418  \n",
      "2      SGD          True    311                1246             93418  \n"
     ]
    }
   ],
   "source": [
    "# Using pandas to read a CSV file and then to Latex\n",
    "import pandas\n",
    "path = 'C:/Users/davje/Desktop/filename.csv'\n",
    "df = pandas.read_csv(path)\n",
    "print(df)"
   ]
  },
  {
   "cell_type": "code",
   "execution_count": 10,
   "metadata": {},
   "outputs": [
    {
     "name": "stdout",
     "output_type": "stream",
     "text": [
      "-  --------  --------  --------  -----  --------  --------  --------  ------  --------  ----  -  ---  -----  -----  ---  ---  ----  ---  ----  -----\n",
      "0  0.640979  0.640979  0.0625    3.813  0.943765  0.692223  0.796428  0.6926  0.795536  1248  2  SGD  1e-06  0.001  0.9  SGD  True  311  1246  93418\n",
      "1  0.786038  0.786038  0.642045  4.578  0.564268  0.811596  0.517182  0.8114  0.517288  1248  2  SGD  1e-06  0.01   0.9  SGD  True  311  1246  93418\n",
      "2  0.780598  0.780598  0.625     3.812  0.616458  0.798131  0.568632  0.798   0.569058  1248  2  SGD  1e-06  0.1    0.9  SGD  True  311  1246  93418\n",
      "-  --------  --------  --------  -----  --------  --------  --------  ------  --------  ----  -  ---  -----  -----  ---  ---  ----  ---  ----  -----\n"
     ]
    }
   ],
   "source": [
    "print(tabulate(df))"
   ]
  },
  {
   "cell_type": "code",
   "execution_count": 11,
   "metadata": {
    "scrolled": true
   },
   "outputs": [
    {
     "name": "stdout",
     "output_type": "stream",
     "text": [
      "\\begin{tabular}{rrrrrrrrrrrrlrrrllrrr}\n",
      "\\hline\n",
      " 0 & 0.640979 & 0.640979 & 0.0625   & 3.813 & 0.943765 & 0.692223 & 0.796428 & 0.6926 & 0.795536 & 1248 & 2 & SGD & 1e-06 & 0.001 & 0.9 & SGD & True & 311 & 1246 & 93418 \\\\\n",
      " 1 & 0.786038 & 0.786038 & 0.642045 & 4.578 & 0.564268 & 0.811596 & 0.517182 & 0.8114 & 0.517288 & 1248 & 2 & SGD & 1e-06 & 0.01  & 0.9 & SGD & True & 311 & 1246 & 93418 \\\\\n",
      " 2 & 0.780598 & 0.780598 & 0.625    & 3.812 & 0.616458 & 0.798131 & 0.568632 & 0.798  & 0.569058 & 1248 & 2 & SGD & 1e-06 & 0.1   & 0.9 & SGD & True & 311 & 1246 & 93418 \\\\\n",
      "\\hline\n",
      "\\end{tabular}\n"
     ]
    }
   ],
   "source": [
    "print(tabulate(df, tablefmt=\"latex_raw\"))"
   ]
  },
  {
   "attachments": {
    "image.png": {
     "image/png": "[encoded data removed]"
    }
   },
   "cell_type": "markdown",
   "metadata": {},
   "source": [
    "![image.png](attachment:image.png)"
   ]
  },
  {
   "cell_type": "code",
   "execution_count": 12,
   "metadata": {},
   "outputs": [
    {
     "data": {
      "text/plain": [
       "[['accuracy',\n",
       "  'batch_accuracy',\n",
       "  'batch_accuracy_min',\n",
       "  'epoch_duration',\n",
       "  'loss',\n",
       "  'validate_batch_accuracy',\n",
       "  'validate_batch_loss',\n",
       "  'val_accuracy',\n",
       "  'val_loss',\n",
       "  'curr_step',\n",
       "  'epochs',\n",
       "  'Optimizer',\n",
       "  'SGD_decay',\n",
       "  'SGD_learning_rate',\n",
       "  'SGD_momentum',\n",
       "  'SGD_name',\n",
       "  'SGD_nesterov',\n",
       "  'steps',\n",
       "  'validate_curr_step',\n",
       "  'trainable_params'],\n",
       " ['0.640979171',\n",
       "  '0.640979171',\n",
       "  '0.0625',\n",
       "  '3.813',\n",
       "  '0.943764508',\n",
       "  '0.692222655',\n",
       "  '0.796428204',\n",
       "  '0.692600012',\n",
       "  '0.79553628',\n",
       "  '1248',\n",
       "  '2',\n",
       "  'SGD',\n",
       "  '1.00E-06',\n",
       "  '0.001',\n",
       "  '0.9',\n",
       "  'SGD',\n",
       "  'TRUE',\n",
       "  '311',\n",
       "  '1246',\n",
       "  '93418'],\n",
       " ['0.786038101',\n",
       "  '0.786038101',\n",
       "  '0.642045438',\n",
       "  '4.578',\n",
       "  '0.564267993',\n",
       "  '0.811595678',\n",
       "  '0.517181635',\n",
       "  '0.811399996',\n",
       "  '0.517287672',\n",
       "  '1248',\n",
       "  '2',\n",
       "  'SGD',\n",
       "  '1.00E-06',\n",
       "  '0.01',\n",
       "  '0.9',\n",
       "  'SGD',\n",
       "  'TRUE',\n",
       "  '311',\n",
       "  '1246',\n",
       "  '93418'],\n",
       " ['0.780598342',\n",
       "  '0.780598342',\n",
       "  '0.625',\n",
       "  '3.812',\n",
       "  '0.61645782',\n",
       "  '0.798131049',\n",
       "  '0.568631649',\n",
       "  '0.797999978',\n",
       "  '0.569058239',\n",
       "  '1248',\n",
       "  '2',\n",
       "  'SGD',\n",
       "  '1.00E-06',\n",
       "  '0.1',\n",
       "  '0.9',\n",
       "  'SGD',\n",
       "  'TRUE',\n",
       "  '311',\n",
       "  '1246',\n",
       "  '93418']]"
      ]
     },
     "execution_count": 12,
     "metadata": {},
     "output_type": "execute_result"
    }
   ],
   "source": [
    "# From CSV directly to Latex\n",
    "# Read csv file\n",
    "path = 'C:/Users/davje/Desktop/filename.csv'\n",
    "with open(path) as csv_file:\n",
    "    table = list(csv.reader(csv_file, delimiter=','))\n",
    "table"
   ]
  },
  {
   "cell_type": "code",
   "execution_count": 13,
   "metadata": {
    "scrolled": true
   },
   "outputs": [
    {
     "name": "stdout",
     "output_type": "stream",
     "text": [
      "\\begin{tabular}{llllllllllllllllllll}\n",
      "\\hline\n",
      " accuracy    & batch_accuracy & batch_accuracy_min & epoch_duration & loss        & validate_batch_accuracy & validate_batch_loss & val_accuracy & val_loss    & curr_step & epochs & Optimizer & SGD_decay & SGD_learning_rate & SGD_momentum & SGD_name & SGD_nesterov & steps & validate_curr_step & trainable_params \\\\\n",
      " 0.640979171 & 0.640979171    & 0.0625             & 3.813          & 0.943764508 & 0.692222655             & 0.796428204         & 0.692600012  & 0.79553628  & 1248      & 2      & SGD       & 1.00E-06  & 0.001             & 0.9          & SGD      & TRUE         & 311   & 1246               & 93418            \\\\\n",
      " 0.786038101 & 0.786038101    & 0.642045438        & 4.578          & 0.564267993 & 0.811595678             & 0.517181635         & 0.811399996  & 0.517287672 & 1248      & 2      & SGD       & 1.00E-06  & 0.01              & 0.9          & SGD      & TRUE         & 311   & 1246               & 93418            \\\\\n",
      " 0.780598342 & 0.780598342    & 0.625              & 3.812          & 0.61645782  & 0.798131049             & 0.568631649         & 0.797999978  & 0.569058239 & 1248      & 2      & SGD       & 1.00E-06  & 0.1               & 0.9          & SGD      & TRUE         & 311   & 1246               & 93418            \\\\\n",
      "\\hline\n",
      "\\end{tabular}\n"
     ]
    }
   ],
   "source": [
    "print(tabulate(table, tablefmt=\"latex_raw\"))"
   ]
  },
  {
   "attachments": {
    "image.png": {
     "image/png": "[encoded data removed]"
    }
   },
   "cell_type": "markdown",
   "metadata": {},
   "source": [
    "![image.png](attachment:image.png)"
   ]
  },
  {
   "cell_type": "markdown",
   "metadata": {},
   "source": [
    "# Pandas to Latex\n",
    "\n",
    "https://pandas.pydata.org/pandas-docs/stable/reference/api/pandas.DataFrame.to_latex.html"
   ]
  },
  {
   "cell_type": "code",
   "execution_count": 14,
   "metadata": {},
   "outputs": [
    {
     "data": {
      "text/html": [
       "<div>\n",
       "<style scoped>\n",
       "    .dataframe tbody tr th:only-of-type {\n",
       "        vertical-align: middle;\n",
       "    }\n",
       "\n",
       "    .dataframe tbody tr th {\n",
       "        vertical-align: top;\n",
       "    }\n",
       "\n",
       "    .dataframe thead th {\n",
       "        text-align: right;\n",
       "    }\n",
       "</style>\n",
       "<table border=\"1\" class=\"dataframe\">\n",
       "  <thead>\n",
       "    <tr style=\"text-align: right;\">\n",
       "      <th></th>\n",
       "      <th>name</th>\n",
       "      <th>mask</th>\n",
       "      <th>weapon</th>\n",
       "    </tr>\n",
       "  </thead>\n",
       "  <tbody>\n",
       "    <tr>\n",
       "      <td>0</td>\n",
       "      <td>Raphael</td>\n",
       "      <td>red</td>\n",
       "      <td>sai</td>\n",
       "    </tr>\n",
       "    <tr>\n",
       "      <td>1</td>\n",
       "      <td>Donatello</td>\n",
       "      <td>purple</td>\n",
       "      <td>bo staff</td>\n",
       "    </tr>\n",
       "  </tbody>\n",
       "</table>\n",
       "</div>"
      ],
      "text/plain": [
       "        name    mask    weapon\n",
       "0    Raphael     red       sai\n",
       "1  Donatello  purple  bo staff"
      ]
     },
     "execution_count": 14,
     "metadata": {},
     "output_type": "execute_result"
    }
   ],
   "source": [
    "import pandas as pd\n",
    "\n",
    "df_test = pd.DataFrame({'name': ['Raphael', 'Donatello'],\n",
    "                   'mask': ['red', 'purple'],\n",
    "                   'weapon': ['sai', 'bo staff']})\n",
    "df_test"
   ]
  },
  {
   "cell_type": "code",
   "execution_count": 15,
   "metadata": {},
   "outputs": [
    {
     "name": "stdout",
     "output_type": "stream",
     "text": [
      "\\begin{tabular}{lrrrrrrrrrrrlrrrllrrr}\n",
      "\\toprule\n",
      "{} &  accuracy &  batch\\_accuracy &  batch\\_accuracy\\_min &  epoch\\_duration &      loss &  validate\\_batch\\_accuracy &  validate\\_batch\\_loss &  val\\_accuracy &  val\\_loss &  curr\\_step &  epochs & Optimizer &  SGD\\_decay &  SGD\\_learning\\_rate &  SGD\\_momentum & SGD\\_name &  SGD\\_nesterov &  steps &  validate\\_curr\\_step &  trainable\\_params \\\\\n",
      "\\midrule\n",
      "\\textbf{0} &  0.640979 &        0.640979 &            0.062500 &           3.813 &  0.943765 &                 0.692223 &             0.796428 &        0.6926 &  0.795536 &       1248 &       2 &       SGD &   0.000001 &              0.001 &           0.9 &      SGD &          True &    311 &                1246 &             93418 \\\\\n",
      "\\textbf{1} &  0.786038 &        0.786038 &            0.642045 &           4.578 &  0.564268 &                 0.811596 &             0.517182 &        0.8114 &  0.517288 &       1248 &       2 &       SGD &   0.000001 &              0.010 &           0.9 &      SGD &          True &    311 &                1246 &             93418 \\\\\n",
      "\\textbf{2} &  0.780598 &        0.780598 &            0.625000 &           3.812 &  0.616458 &                 0.798131 &             0.568632 &        0.7980 &  0.569058 &       1248 &       2 &       SGD &   0.000001 &              0.100 &           0.9 &      SGD &          True &    311 &                1246 &             93418 \\\\\n",
      "\\bottomrule\n",
      "\\end{tabular}\n",
      "\n"
     ]
    }
   ],
   "source": [
    "print(df.to_latex(index=True, bold_rows=True)) "
   ]
  },
  {
   "attachments": {
    "image.png": {
     "image/png": "[encoded data removed]"
    }
   },
   "cell_type": "markdown",
   "metadata": {},
   "source": [
    "![image.png](attachment:image.png)"
   ]
  },
  {
   "cell_type": "code",
   "execution_count": 16,
   "metadata": {},
   "outputs": [
    {
     "name": "stdout",
     "output_type": "stream",
     "text": [
      "\\begin{tabular}{lll}\n",
      "\\toprule\n",
      "      name &    mask &    weapon \\\\\n",
      "\\midrule\n",
      "   Raphael &     red &       sai \\\\\n",
      " Donatello &  purple &  bo staff \\\\\n",
      "\\bottomrule\n",
      "\\end{tabular}\n",
      "\n"
     ]
    }
   ],
   "source": [
    "print(df_test.to_latex(index=False))"
   ]
  }
 ],
 "metadata": {
  "kernelspec": {
   "display_name": "Python 3",
   "language": "python",
   "name": "python3"
  },
  "language_info": {
   "codemirror_mode": {
    "name": "ipython",
    "version": 3
   },
   "file_extension": ".py",
   "mimetype": "text/x-python",
   "name": "python",
   "nbconvert_exporter": "python",
   "pygments_lexer": "ipython3",
   "version": "3.7.4"
  }
 },
 "nbformat": 4,
 "nbformat_minor": 2
}
